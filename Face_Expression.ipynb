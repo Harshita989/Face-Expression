{
  "nbformat": 4,
  "nbformat_minor": 0,
  "metadata": {
    "colab": {
      "provenance": [],
      "authorship_tag": "ABX9TyNj6U9ziN7FeUyBK+VxAJ0q",
      "include_colab_link": true
    },
    "kernelspec": {
      "name": "python3",
      "display_name": "Python 3"
    },
    "language_info": {
      "name": "python"
    }
  },
  "cells": [
    {
      "cell_type": "markdown",
      "metadata": {
        "id": "view-in-github",
        "colab_type": "text"
      },
      "source": [
        "<a href=\"https://colab.research.google.com/github/Harshita989/Face-Expression/blob/main/Face_Expression.ipynb\" target=\"_parent\"><img src=\"https://colab.research.google.com/assets/colab-badge.svg\" alt=\"Open In Colab\"/></a>"
      ]
    },
    {
      "cell_type": "code",
      "execution_count": 1,
      "metadata": {
        "id": "TpcX4pAWU1IM"
      },
      "outputs": [],
      "source": [
        "!pip install landingai &> /dev/null\n",
        "from PIL import Image\n",
        "from landingai.predict import Predictor"
      ]
    },
    {
      "cell_type": "code",
      "source": [
        "from PIL import Image\n",
        "from landingai.predict import Predictor\n",
        "# Enter your API Key\n",
        "endpoint_id = \"371dc2ee-3a5e-457a-83e6-c35fc82c84e1\"\n",
        "api_key = \"land_sk_fmpZIaysgT4CUjWLwSvw6AhAZoRP8yxNZ8RMMf8rSn9C1KhZK\"  # Replace with your API key\n",
        "# Load your image\n",
        "image = Image.open(\"image.jpeg\")  # Replace with your image file path\n",
        "# Run inference\n",
        "predictor = Predictor(endpoint_id, api_key=api_key)\n",
        "predictions = predictor.predict(image)\n",
        "print(predictions)"
      ],
      "metadata": {
        "colab": {
          "base_uri": "https://localhost:8080/"
        },
        "id": "CYhE6l8rU2c4",
        "outputId": "d88e192a-f412-4338-b0fa-ccf86035c742"
      },
      "execution_count": 4,
      "outputs": [
        {
          "output_type": "stream",
          "name": "stdout",
          "text": [
            "[ClassificationPrediction(score=0.2887495160102844, label_name='Excited', label_index=2)]\n"
          ]
        }
      ]
    }
  ]
}